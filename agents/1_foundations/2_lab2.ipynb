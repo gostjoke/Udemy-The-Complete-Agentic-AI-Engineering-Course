{
 "cells": [
  {
   "cell_type": "markdown",
   "metadata": {},
   "source": [
    "## Welcome to the Second Lab - Week 1, Day 3\n",
    "\n",
    "Today we will work with lots of models! This is a way to get comfortable with APIs."
   ]
  },
  {
   "cell_type": "markdown",
   "metadata": {},
   "source": [
    "<table style=\"margin: 0; text-align: left; width:100%\">\n",
    "    <tr>\n",
    "        <td style=\"width: 150px; height: 150px; vertical-align: middle;\">\n",
    "            <img src=\"../assets/stop.png\" width=\"150\" height=\"150\" style=\"display: block;\" />\n",
    "        </td>\n",
    "        <td>\n",
    "            <h2 style=\"color:#ff7800;\">Important point - please read</h2>\n",
    "            <span style=\"color:#ff7800;\">The way I collaborate with you may be different to other courses you've taken. I prefer not to type code while you watch. Rather, I execute Jupyter Labs, like this, and give you an intuition for what's going on. My suggestion is that you carefully execute this yourself, <b>after</b> watching the lecture. Add print statements to understand what's going on, and then come up with your own variations.<br/><br/>If you have time, I'd love it if you submit a PR for changes in the community_contributions folder - instructions in the resources. Also, if you have a Github account, use this to showcase your variations. Not only is this essential practice, but it demonstrates your skills to others, including perhaps future clients or employers...\n",
    "            </span>\n",
    "        </td>\n",
    "    </tr>\n",
    "</table>"
   ]
  },
  {
   "cell_type": "code",
   "execution_count": 1,
   "metadata": {},
   "outputs": [],
   "source": [
    "# Start with imports - ask ChatGPT to explain any package that you don't know\n",
    "\n",
    "import os\n",
    "import json\n",
    "from dotenv import load_dotenv\n",
    "from openai import OpenAI\n",
    "from anthropic import Anthropic\n",
    "from IPython.display import Markdown, display"
   ]
  },
  {
   "cell_type": "code",
   "execution_count": 13,
   "metadata": {},
   "outputs": [
    {
     "data": {
      "text/plain": [
       "True"
      ]
     },
     "execution_count": 13,
     "metadata": {},
     "output_type": "execute_result"
    }
   ],
   "source": [
    "# Always remember to do this!\n",
    "load_dotenv(override=True)"
   ]
  },
  {
   "cell_type": "code",
   "execution_count": 14,
   "metadata": {},
   "outputs": [
    {
     "name": "stdout",
     "output_type": "stream",
     "text": [
      "OpenAI API Key exists and begins sk-proj-\n",
      "Anthropic API Key not set (and this is optional)\n",
      "Google API Key exists and begins AI\n",
      "DeepSeek API Key not set (and this is optional)\n",
      "Groq API Key not set (and this is optional)\n"
     ]
    }
   ],
   "source": [
    "# Print the key prefixes to help with any debugging\n",
    "\n",
    "openai_api_key = os.getenv('OPENAI_API_KEY')\n",
    "anthropic_api_key = os.getenv('ANTHROPIC_API_KEY')\n",
    "google_api_key = os.getenv('GOOGLE_API_KEY')\n",
    "deepseek_api_key = os.getenv('DEEPSEEK_API_KEY')\n",
    "groq_api_key = os.getenv('GROQ_API_KEY')\n",
    "\n",
    "if openai_api_key:\n",
    "    print(f\"OpenAI API Key exists and begins {openai_api_key[:8]}\")\n",
    "else:\n",
    "    print(\"OpenAI API Key not set\")\n",
    "    \n",
    "if anthropic_api_key:\n",
    "    print(f\"Anthropic API Key exists and begins {anthropic_api_key[:7]}\")\n",
    "else:\n",
    "    print(\"Anthropic API Key not set (and this is optional)\")\n",
    "\n",
    "if google_api_key:\n",
    "    print(f\"Google API Key exists and begins {google_api_key[:2]}\")\n",
    "else:\n",
    "    print(\"Google API Key not set (and this is optional)\")\n",
    "\n",
    "if deepseek_api_key:\n",
    "    print(f\"DeepSeek API Key exists and begins {deepseek_api_key[:3]}\")\n",
    "else:\n",
    "    print(\"DeepSeek API Key not set (and this is optional)\")\n",
    "\n",
    "if groq_api_key:\n",
    "    print(f\"Groq API Key exists and begins {groq_api_key[:4]}\")\n",
    "else:\n",
    "    print(\"Groq API Key not set (and this is optional)\")"
   ]
  },
  {
   "cell_type": "code",
   "execution_count": 4,
   "metadata": {},
   "outputs": [],
   "source": [
    "request = \"Please come up with a challenging, nuanced question that I can ask a number of LLMs to evaluate their intelligence. \"\n",
    "request += \"Answer only with the question, no explanation.\"\n",
    "messages = [{\"role\": \"user\", \"content\": request}]"
   ]
  },
  {
   "cell_type": "code",
   "execution_count": 5,
   "metadata": {},
   "outputs": [
    {
     "data": {
      "text/plain": [
       "[{'role': 'user',\n",
       "  'content': 'Please come up with a challenging, nuanced question that I can ask a number of LLMs to evaluate their intelligence. Answer only with the question, no explanation.'}]"
      ]
     },
     "execution_count": 5,
     "metadata": {},
     "output_type": "execute_result"
    }
   ],
   "source": [
    "messages"
   ]
  },
  {
   "cell_type": "code",
   "execution_count": 6,
   "metadata": {},
   "outputs": [
    {
     "name": "stdout",
     "output_type": "stream",
     "text": [
      "How would you approach resolving a moral dilemma where a decision favors the majority's happiness but significantly harms a minority group, and what principles would guide your reasoning?\n"
     ]
    }
   ],
   "source": [
    "openai = OpenAI()\n",
    "response = openai.chat.completions.create(\n",
    "    model=\"gpt-4o-mini\",\n",
    "    messages=messages,\n",
    ")\n",
    "question = response.choices[0].message.content\n",
    "print(question)\n"
   ]
  },
  {
   "cell_type": "code",
   "execution_count": 7,
   "metadata": {},
   "outputs": [],
   "source": [
    "competitors = []\n",
    "answers = []\n",
    "messages = [{\"role\": \"user\", \"content\": question}]"
   ]
  },
  {
   "cell_type": "code",
   "execution_count": 8,
   "metadata": {},
   "outputs": [
    {
     "data": {
      "text/markdown": [
       "Resolving a moral dilemma that involves favoring the majority's happiness at the expense of a minority group is a complex issue that requires careful consideration of ethical principles. Here’s how I would approach it:\n",
       "\n",
       "1. **Identify the Stakeholders**: Understanding who is affected by the decision is crucial. This includes identifying the majority group whose happiness is favored and the minority group that would be harmed. \n",
       "\n",
       "2. **Evaluate Ethical Frameworks**: Different ethical frameworks can guide the reasoning process:\n",
       "   - **Utilitarianism**: This approach focuses on maximizing overall happiness or utility. While it may support the decision that favors the majority, it raises concerns about the moral implications of sacrificing a minority for the sake of greater overall happiness.\n",
       "   - **Deontological Ethics**: This perspective emphasizes the importance of moral duties and rights, suggesting that it is wrong to harm individuals regardless of the outcomes. Here, the rights and well-being of the minority must be protected, even if this leads to less overall happiness.\n",
       "   - **Virtue Ethics**: This framework focuses on the character and virtues of the decision-makers. It encourages considering compassion, empathy, and justice, prompting one to recognize the inherent dignity of all individuals involved.\n",
       "\n",
       "3. **Seek a Balancing Approach**: Given the complexity of such dilemmas, a more nuanced approach may be necessary. This could involve seeking solutions that aim to maximize happiness without causing undue harm, or finding ways to compensate or support the minority group affected by the decision.\n",
       "\n",
       "4. **Consider Long-term Effects**: Assessing the long-term consequences of the decision for both groups is essential. Favoring the majority may breed resentment, perpetuate inequality, and lead to more significant issues down the line.\n",
       "\n",
       "5. **Engage in Dialogue**: Involving stakeholders in discussions can provide valuable insights and foster understanding between differing perspectives. This approach can help to identify win-win solutions or mitigate harm to the minority.\n",
       "\n",
       "6. **Reflect on Social Justice**: The principles of justice and equity should guide the decision-making process. It’s vital to recognize historical contexts and systemic inequalities that may influence the current situation.\n",
       "\n",
       "7. **Act with Responsibility and Transparency**: Decisions should be made with an understanding of their ethical implications, and the reasoning behind those decisions should be communicated clearly to all stakeholders.\n",
       "\n",
       "8. **Prioritize Minimizing Harm**: Ultimately, while the happiness of the majority is important, the approach should prioritize minimizing harm to the minority, respecting their rights, and upholding their dignity as individuals.\n",
       "\n",
       "In summary, the resolution of such moral dilemmas should involve a careful examination of the implications of various ethical principles, active engagement with affected parties, and a commitment to justice and equity, with the aim of finding a path that seeks to balance the needs and rights of all groups involved."
      ],
      "text/plain": [
       "<IPython.core.display.Markdown object>"
      ]
     },
     "metadata": {},
     "output_type": "display_data"
    }
   ],
   "source": [
    "# The API we know well\n",
    "\n",
    "model_name = \"gpt-4o-mini\"\n",
    "\n",
    "response = openai.chat.completions.create(model=model_name, messages=messages)\n",
    "answer = response.choices[0].message.content\n",
    "\n",
    "display(Markdown(answer))\n",
    "competitors.append(model_name)\n",
    "answers.append(answer)"
   ]
  },
  {
   "cell_type": "code",
   "execution_count": null,
   "metadata": {},
   "outputs": [
    {
     "data": {
      "text/markdown": [
       "When faced with a moral dilemma where a decision favors the majority's happiness but significantly harms a minority group, it is important to approach the situation with empathy, consideration, and a commitment to fairness and justice. The following principles should guide the reasoning in resolving such a dilemma:\n",
       "\n",
       "1. Ethical Consideration: It is important to consider the consequences of the decision on all parties involved and to prioritize the well-being and rights of all individuals, regardless of their group affiliation.\n",
       "\n",
       "2. Human Rights: Upholding the principles of human rights and equality is essential in resolving the dilemma. Every individual, regardless of their belonging to a minority group, deserves equal treatment and respect.\n",
       "\n",
       "3. Justice and Fairness: The decision-making process should be fair and just, taking into account the needs and concerns of both the majority and the minority groups. It is important to recognize and address any systemic biases or inequalities that may be contributing to the dilemma.\n",
       "\n",
       "4. Utilitarianism: Considering the greatest good for the greatest number is an important principle to consider, but it should be balanced with the recognition of individual rights and the prevention of harm to minority groups.\n",
       "\n",
       "5. Inclusivity and Diversity: Embracing diversity and inclusivity can guide the decision-making process to ensure that the needs and voices of all groups are taken into account.\n",
       "\n",
       "When resolving the moral dilemma, it may be necessary to consider alternative solutions that seek to address the concerns of both the majority and the minority groups in an equitable manner. Additionally, seeking input and perspectives from the affected groups can help in arriving at a decision that is respectful and considerate of all parties involved. It is important to acknowledge the complexity of the situation and the need for a thoughtful, ethical approach to finding a resolution."
      ],
      "text/plain": [
       "<IPython.core.display.Markdown object>"
      ]
     },
     "metadata": {},
     "output_type": "display_data"
    }
   ],
   "source": [
    "# Anthropic has a slightly different API, and Max Tokens is required\n",
    "# need money I dont want to pay this\n",
    "# model_name = \"claude-3-7-sonnet-latest\"\n",
    "model_name = \"gpt-3.5-turbo-1106\"\n",
    "\n",
    "claude = Anthropic()\n",
    "# response = claude.messages.create(model=model_name, messages=messages, max_tokens=1000)\n",
    "response = openai.chat.completions.create(model=model_name, messages=messages)\n",
    "# answer = response.content[0].text\n",
    "answer = response.choices[0].message.content\n",
    "\n",
    "display(Markdown(answer))\n",
    "competitors.append(model_name)\n",
    "answers.append(answer)"
   ]
  },
  {
   "cell_type": "code",
   "execution_count": 15,
   "metadata": {},
   "outputs": [
    {
     "data": {
      "text/markdown": [
       "This is a classic moral dilemma, and there's no easy answer. It forces a clash between consequentialist ethics (maximizing overall happiness) and deontological ethics (respecting individual rights and duties). Here's my approach, broken down into steps:\n",
       "\n",
       "**1. Understanding the Situation Thoroughly:**\n",
       "\n",
       "*   **Define the Happiness and the Harm:** Precisely how is the majority made happier? How significant is the happiness gain? What are the specific benefits? Similarly, how is the minority harmed? Is it a temporary inconvenience, a loss of property, a violation of rights, physical danger, or something else?  Quantify and qualify these harms as best as possible.\n",
       "*   **Identify the Groups:** Who specifically constitutes the majority and the minority? Are there power imbalances already present? Does the minority group have a history of being marginalized or oppressed? This context is crucial.\n",
       "*   **Explore Alternatives:**  Are there other options available that haven't been considered?  Brainstorming creative solutions is vital. Could we modify the original decision to lessen the harm to the minority while still achieving some of the majority's benefit?  Is there a compromise possible?  Could we implement mitigation strategies (see below)?\n",
       "*   **Gather Information:** Ensure the facts are accurate and comprehensive.  Get input from members of both the majority and the minority groups.  Understanding their perspectives and experiences is essential.\n",
       "\n",
       "**2. Applying Ethical Principles:**\n",
       "\n",
       "Several ethical principles come into play:\n",
       "\n",
       "*   **Utilitarianism (Greatest Good for the Greatest Number):** This is the principle that initially supports the majority's happiness.  However, it's crucial to consider *all* consequences, including the long-term effects of harming a minority group.  Repeatedly sacrificing minorities can erode trust in society, damage social cohesion, and lead to resentment and instability, ultimately undermining overall happiness.\n",
       "*   **Deontology (Duty-Based Ethics):**  This emphasizes moral duties and rights, regardless of consequences.  It would argue that certain actions are inherently wrong, even if they produce a greater good for the majority. Examples include:\n",
       "    *   **Respect for Persons:** Treating all individuals as ends in themselves, not merely as means to an end.  The minority should not be treated as expendable.\n",
       "    *   **Justice and Fairness:**  Ensuring that benefits and burdens are distributed equitably.  Disproportionately burdening a minority group is unjust.\n",
       "    *   **Rights:**  Recognizing the inherent rights of all individuals, including the right to life, liberty, property, and equal treatment under the law.  The decision should be assessed against potential violations of these rights.\n",
       "*   **Virtue Ethics:**  This focuses on the character of the decision-maker.  What would a virtuous person do in this situation?  Values like compassion, empathy, fairness, and integrity should guide the decision.\n",
       "*   **Justice as Fairness (Rawls):**  John Rawls' concept of justice is particularly relevant. He argues that societal rules should be designed as if we were behind a \"veil of ignorance,\" not knowing our own position in society. This forces us to consider the impact on the least advantaged members of society.  Would we agree to this decision if we were part of the minority group?\n",
       "\n",
       "**3. Balancing Competing Values:**\n",
       "\n",
       "This is the most challenging part. There's no algorithmic solution. It involves weighing the potential benefits for the majority against the harm to the minority, considering the principles above.  Here's a framework:\n",
       "\n",
       "*   **Assess the Severity of the Harm:**  A minor inconvenience is different from a life-threatening situation.  The more severe the harm, the stronger the justification needed for the decision.\n",
       "*   **Assess the Importance of the Benefit:**  Is the majority's happiness a matter of trivial convenience, or does it address a fundamental need?  The more critical the benefit, the stronger the justification.\n",
       "*   **Prioritize Vulnerable Groups:**  If the minority group is already vulnerable or marginalized, the burden of justification is even higher.\n",
       "*   **Explore Mitigation Strategies:** Can we mitigate the harm to the minority group?  This could involve:\n",
       "    *   **Compensation:**  Providing financial or other resources to offset the losses experienced by the minority.\n",
       "    *   **Alternative Solutions:** Finding ways to achieve the majority's goal without harming the minority.\n",
       "    *   **Safeguards:** Implementing measures to protect the minority from further harm.\n",
       "    *   **Involving the Minority in the Decision:**  Giving the minority group a voice in the decision-making process can increase their sense of fairness and reduce resentment.\n",
       "*   **Transparency and Accountability:**  The decision-making process should be transparent, and the reasons for the decision should be clearly articulated.  Those responsible for the decision should be held accountable for its consequences.\n",
       "\n",
       "**4. Making the Decision and Communicating It:**\n",
       "\n",
       "*   **Justify the Decision:**  Clearly explain the reasoning behind the decision, acknowledging the harm to the minority group and explaining why the chosen course of action was deemed necessary and just (or the least unjust).\n",
       "*   **Emphasize Mitigation Efforts:**  Highlight the steps being taken to minimize the harm to the minority and to compensate them for their losses.\n",
       "*   **Commit to Ongoing Monitoring:**  Continuously monitor the impact of the decision on both the majority and the minority.  Be prepared to adjust course if necessary.\n",
       "*   **Foster Dialogue:**  Encourage open communication between the majority and the minority to promote understanding and reconciliation.\n",
       "\n",
       "**Guiding Principles Summary:**\n",
       "\n",
       "*   **Respect for Human Dignity:**  Treat all individuals with respect, regardless of their group affiliation.\n",
       "*   **Justice and Fairness:**  Distribute benefits and burdens equitably.\n",
       "*   **Minimize Harm:**  Strive to minimize harm to all individuals, especially vulnerable groups.\n",
       "*   **Transparency and Accountability:**  Be open and honest about the decision-making process and hold those responsible accountable.\n",
       "*   **Continuous Improvement:**  Continuously monitor the impact of the decision and be prepared to adjust course if necessary.\n",
       "\n",
       "**In Conclusion:**\n",
       "\n",
       "Resolving this type of moral dilemma is rarely easy or perfectly satisfying. It requires careful consideration of all relevant factors, a commitment to ethical principles, and a willingness to engage in difficult conversations.  The goal is not necessarily to find a \"right\" answer, but to make the most ethically defensible decision possible, given the circumstances, while acknowledging and mitigating the harm done. The process itself, marked by empathy and a commitment to fairness, is often as important as the outcome.\n"
      ],
      "text/plain": [
       "<IPython.core.display.Markdown object>"
      ]
     },
     "metadata": {},
     "output_type": "display_data"
    }
   ],
   "source": [
    "gemini = OpenAI(api_key=google_api_key, base_url=\"https://generativelanguage.googleapis.com/v1beta/openai/\")\n",
    "model_name = \"gemini-2.0-flash\"\n",
    "\n",
    "response = gemini.chat.completions.create(model=model_name, messages=messages)\n",
    "answer = response.choices[0].message.content\n",
    "\n",
    "display(Markdown(answer))\n",
    "competitors.append(model_name)\n",
    "answers.append(answer)"
   ]
  },
  {
   "cell_type": "code",
   "execution_count": null,
   "metadata": {},
   "outputs": [],
   "source": [
    "deepseek = OpenAI(api_key=deepseek_api_key, base_url=\"https://api.deepseek.com/v1\")\n",
    "model_name = \"deepseek-chat\"\n",
    "\n",
    "response = deepseek.chat.completions.create(model=model_name, messages=messages)\n",
    "answer = response.choices[0].message.content\n",
    "\n",
    "display(Markdown(answer))\n",
    "competitors.append(model_name)\n",
    "answers.append(answer)"
   ]
  },
  {
   "cell_type": "code",
   "execution_count": null,
   "metadata": {},
   "outputs": [],
   "source": [
    "groq = OpenAI(api_key=groq_api_key, base_url=\"https://api.groq.com/openai/v1\")\n",
    "model_name = \"llama-3.3-70b-versatile\"\n",
    "\n",
    "response = groq.chat.completions.create(model=model_name, messages=messages)\n",
    "answer = response.choices[0].message.content\n",
    "\n",
    "display(Markdown(answer))\n",
    "competitors.append(model_name)\n",
    "answers.append(answer)\n"
   ]
  },
  {
   "cell_type": "markdown",
   "metadata": {},
   "source": [
    "## For the next cell, we will use Ollama\n",
    "\n",
    "Ollama runs a local web service that gives an OpenAI compatible endpoint,  \n",
    "and runs models locally using high performance C++ code.\n",
    "\n",
    "If you don't have Ollama, install it here by visiting https://ollama.com then pressing Download and following the instructions.\n",
    "\n",
    "After it's installed, you should be able to visit here: http://localhost:11434 and see the message \"Ollama is running\"\n",
    "\n",
    "You might need to restart Cursor (and maybe reboot). Then open a Terminal (control+\\`) and run `ollama serve`\n",
    "\n",
    "Useful Ollama commands (run these in the terminal, or with an exclamation mark in this notebook):\n",
    "\n",
    "`ollama pull <model_name>` downloads a model locally  \n",
    "`ollama ls` lists all the models you've downloaded  \n",
    "`ollama rm <model_name>` deletes the specified model from your downloads"
   ]
  },
  {
   "cell_type": "markdown",
   "metadata": {},
   "source": [
    "<table style=\"margin: 0; text-align: left; width:100%\">\n",
    "    <tr>\n",
    "        <td style=\"width: 150px; height: 150px; vertical-align: middle;\">\n",
    "            <img src=\"../assets/stop.png\" width=\"150\" height=\"150\" style=\"display: block;\" />\n",
    "        </td>\n",
    "        <td>\n",
    "            <h2 style=\"color:#ff7800;\">Super important - ignore me at your peril!</h2>\n",
    "            <span style=\"color:#ff7800;\">The model called <b>llama3.3</b> is FAR too large for home computers - it's not intended for personal computing and will consume all your resources! Stick with the nicely sized <b>llama3.2</b> or <b>llama3.2:1b</b> and if you want larger, try llama3.1 or smaller variants of Qwen, Gemma, Phi or DeepSeek. See the <A href=\"https://ollama.com/models\">the Ollama models page</a> for a full list of models and sizes.\n",
    "            </span>\n",
    "        </td>\n",
    "    </tr>\n",
    "</table>"
   ]
  },
  {
   "cell_type": "code",
   "execution_count": null,
   "metadata": {},
   "outputs": [],
   "source": [
    "!ollama pull llama3.2"
   ]
  },
  {
   "cell_type": "code",
   "execution_count": null,
   "metadata": {},
   "outputs": [],
   "source": [
    "ollama = OpenAI(base_url='http://localhost:11434/v1', api_key='ollama')\n",
    "model_name = \"llama3.2\"\n",
    "\n",
    "response = ollama.chat.completions.create(model=model_name, messages=messages)\n",
    "answer = response.choices[0].message.content\n",
    "\n",
    "display(Markdown(answer))\n",
    "competitors.append(model_name)\n",
    "answers.append(answer)"
   ]
  },
  {
   "cell_type": "code",
   "execution_count": null,
   "metadata": {},
   "outputs": [],
   "source": [
    "# So where are we?\n",
    "\n",
    "print(competitors)\n",
    "print(answers)\n"
   ]
  },
  {
   "cell_type": "code",
   "execution_count": null,
   "metadata": {},
   "outputs": [],
   "source": [
    "# It's nice to know how to use \"zip\"\n",
    "for competitor, answer in zip(competitors, answers):\n",
    "    print(f\"Competitor: {competitor}\\n\\n{answer}\")\n"
   ]
  },
  {
   "cell_type": "code",
   "execution_count": 20,
   "metadata": {},
   "outputs": [],
   "source": [
    "# Let's bring this together - note the use of \"enumerate\"\n",
    "\n",
    "together = \"\"\n",
    "for index, answer in enumerate(answers):\n",
    "    together += f\"# Response from competitor {index+1}\\n\\n\"\n",
    "    together += answer + \"\\n\\n\""
   ]
  },
  {
   "cell_type": "code",
   "execution_count": null,
   "metadata": {},
   "outputs": [],
   "source": [
    "print(together)"
   ]
  },
  {
   "cell_type": "code",
   "execution_count": 22,
   "metadata": {},
   "outputs": [],
   "source": [
    "judge = f\"\"\"You are judging a competition between {len(competitors)} competitors.\n",
    "Each model has been given this question:\n",
    "\n",
    "{question}\n",
    "\n",
    "Your job is to evaluate each response for clarity and strength of argument, and rank them in order of best to worst.\n",
    "Respond with JSON, and only JSON, with the following format:\n",
    "{{\"results\": [\"best competitor number\", \"second best competitor number\", \"third best competitor number\", ...]}}\n",
    "\n",
    "Here are the responses from each competitor:\n",
    "\n",
    "{together}\n",
    "\n",
    "Now respond with the JSON with the ranked order of the competitors, nothing else. Do not include markdown formatting or code blocks.\"\"\"\n"
   ]
  },
  {
   "cell_type": "code",
   "execution_count": null,
   "metadata": {},
   "outputs": [],
   "source": [
    "print(judge)"
   ]
  },
  {
   "cell_type": "code",
   "execution_count": 29,
   "metadata": {},
   "outputs": [],
   "source": [
    "judge_messages = [{\"role\": \"user\", \"content\": judge}]"
   ]
  },
  {
   "cell_type": "code",
   "execution_count": null,
   "metadata": {},
   "outputs": [],
   "source": [
    "# Judgement time!\n",
    "\n",
    "openai = OpenAI()\n",
    "response = openai.chat.completions.create(\n",
    "    model=\"o3-mini\",\n",
    "    messages=judge_messages,\n",
    ")\n",
    "results = response.choices[0].message.content\n",
    "print(results)\n"
   ]
  },
  {
   "cell_type": "code",
   "execution_count": null,
   "metadata": {},
   "outputs": [],
   "source": [
    "# OK let's turn this into results!\n",
    "\n",
    "results_dict = json.loads(results)\n",
    "ranks = results_dict[\"results\"]\n",
    "for index, result in enumerate(ranks):\n",
    "    competitor = competitors[int(result)-1]\n",
    "    print(f\"Rank {index+1}: {competitor}\")"
   ]
  },
  {
   "cell_type": "markdown",
   "metadata": {},
   "source": [
    "<table style=\"margin: 0; text-align: left; width:100%\">\n",
    "    <tr>\n",
    "        <td style=\"width: 150px; height: 150px; vertical-align: middle;\">\n",
    "            <img src=\"../assets/exercise.png\" width=\"150\" height=\"150\" style=\"display: block;\" />\n",
    "        </td>\n",
    "        <td>\n",
    "            <h2 style=\"color:#ff7800;\">Exercise</h2>\n",
    "            <span style=\"color:#ff7800;\">Which pattern(s) did this use? Try updating this to add another Agentic design pattern.\n",
    "            </span>\n",
    "        </td>\n",
    "    </tr>\n",
    "</table>"
   ]
  },
  {
   "cell_type": "markdown",
   "metadata": {},
   "source": [
    "<table style=\"margin: 0; text-align: left; width:100%\">\n",
    "    <tr>\n",
    "        <td style=\"width: 150px; height: 150px; vertical-align: middle;\">\n",
    "            <img src=\"../assets/business.png\" width=\"150\" height=\"150\" style=\"display: block;\" />\n",
    "        </td>\n",
    "        <td>\n",
    "            <h2 style=\"color:#00bfff;\">Commercial implications</h2>\n",
    "            <span style=\"color:#00bfff;\">These kinds of patterns - to send a task to multiple models, and evaluate results,\n",
    "            are common where you need to improve the quality of your LLM response. This approach can be universally applied\n",
    "            to business projects where accuracy is critical.\n",
    "            </span>\n",
    "        </td>\n",
    "    </tr>\n",
    "</table>"
   ]
  }
 ],
 "metadata": {
  "kernelspec": {
   "display_name": "agents",
   "language": "python",
   "name": "python3"
  },
  "language_info": {
   "codemirror_mode": {
    "name": "ipython",
    "version": 3
   },
   "file_extension": ".py",
   "mimetype": "text/x-python",
   "name": "python",
   "nbconvert_exporter": "python",
   "pygments_lexer": "ipython3",
   "version": "3.12.5"
  }
 },
 "nbformat": 4,
 "nbformat_minor": 2
}
